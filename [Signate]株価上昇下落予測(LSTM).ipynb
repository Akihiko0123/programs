{
  "nbformat": 4,
  "nbformat_minor": 0,
  "metadata": {
    "colab": {
      "name": "[Signate]株価上昇下落予測(LSTM)",
      "provenance": [],
      "collapsed_sections": [],
      "authorship_tag": "ABX9TyPmqfNAR8T9/sA2e7rFpTfL"
    },
    "kernelspec": {
      "name": "python3",
      "display_name": "Python 3"
    },
    "language_info": {
      "name": "python"
    }
  },
  "cells": [
    {
      "cell_type": "code",
      "metadata": {
        "colab": {
          "base_uri": "https://localhost:8080/",
          "height": 0
        },
        "id": "RHsETlNmTdiu",
        "outputId": "0442d880-ce7f-47ab-c7d9-5c11e5506d04"
      },
      "source": [
        "import numpy as np\n",
        "import pandas as pd\n",
        "import matplotlib.pyplot as plt\n",
        "from datetime import datetime\n",
        "# クロスバリデーション用パッケージ\n",
        "from sklearn.model_selection import train_test_split\n",
        "from sklearn.preprocessing import StandardScaler\n",
        "import seaborn as sns\n",
        "sns.set()\n",
        "TRAIN_FILE = 'train.csv'\n",
        "TEST_FILE = 'test.csv'\n",
        "DATA_PATH = '/content/gdrive/My Drive/Colab Notebooks/Signate/stock_price_pred/'\n",
        "try:\n",
        "  from google.colab import drive\n",
        "  drive.mount('/content/gdrive')\n",
        "except ModuleNotFoundError as e:\n",
        "  DATA_PATH = './data/'\n",
        "\n",
        "# データ読み込み\n",
        "train = pd.read_csv(DATA_PATH + TRAIN_FILE,header=0)\n",
        "test = pd.read_csv(DATA_PATH + TEST_FILE,header=0)"
      ],
      "execution_count": 1,
      "outputs": [
        {
          "output_type": "stream",
          "text": [
            "Mounted at /content/gdrive\n"
          ],
          "name": "stdout"
        }
      ]
    },
    {
      "cell_type": "code",
      "metadata": {
        "colab": {
          "base_uri": "https://localhost:8080/",
          "height": 0
        },
        "id": "W6Q9R0YBWoi0",
        "outputId": "515bec1c-5d06-45aa-f891-c4e05595c93d"
      },
      "source": [
        "print(train.head())\n",
        "print(test.head())"
      ],
      "execution_count": 2,
      "outputs": [
        {
          "output_type": "stream",
          "text": [
            "         Date   Open   High    Low  Close  Up\n",
            "0  2004-01-02  50.85  50.91  50.62  50.72   1\n",
            "1  2004-01-05  50.75  50.84  50.61  50.79   1\n",
            "2  2004-01-06  50.87  51.26  50.86  51.15   1\n",
            "3  2004-01-07  51.45  51.54  51.29  51.51   0\n",
            "4  2004-01-08  51.15  51.33  51.02  51.28   0\n",
            "         Date    Open    High     Low   Close\n",
            "0  2012-01-19  110.79  110.82  109.96  110.39\n",
            "1  2012-01-20  110.45  111.10  110.36  110.73\n",
            "2  2012-01-23  110.95  111.10  109.65  110.36\n",
            "3  2012-01-24  110.16  110.16  108.13  108.39\n",
            "4  2012-01-25  106.25  107.11  105.97  106.89\n"
          ],
          "name": "stdout"
        }
      ]
    },
    {
      "cell_type": "code",
      "metadata": {
        "colab": {
          "base_uri": "https://localhost:8080/",
          "height": 0
        },
        "id": "CchfZ3KbaehU",
        "outputId": "a380e5e6-e526-4fec-d561-cfe5daaac8fe"
      },
      "source": [
        "print(train.info())\n",
        "print(test.info())"
      ],
      "execution_count": 3,
      "outputs": [
        {
          "output_type": "stream",
          "text": [
            "<class 'pandas.core.frame.DataFrame'>\n",
            "RangeIndex: 2026 entries, 0 to 2025\n",
            "Data columns (total 6 columns):\n",
            " #   Column  Non-Null Count  Dtype  \n",
            "---  ------  --------------  -----  \n",
            " 0   Date    2026 non-null   object \n",
            " 1   Open    2026 non-null   float64\n",
            " 2   High    2026 non-null   float64\n",
            " 3   Low     2026 non-null   float64\n",
            " 4   Close   2026 non-null   float64\n",
            " 5   Up      2026 non-null   int64  \n",
            "dtypes: float64(4), int64(1), object(1)\n",
            "memory usage: 95.1+ KB\n",
            "None\n",
            "<class 'pandas.core.frame.DataFrame'>\n",
            "RangeIndex: 1200 entries, 0 to 1199\n",
            "Data columns (total 5 columns):\n",
            " #   Column  Non-Null Count  Dtype  \n",
            "---  ------  --------------  -----  \n",
            " 0   Date    1200 non-null   object \n",
            " 1   Open    1200 non-null   float64\n",
            " 2   High    1200 non-null   float64\n",
            " 3   Low     1200 non-null   float64\n",
            " 4   Close   1200 non-null   float64\n",
            "dtypes: float64(4), object(1)\n",
            "memory usage: 47.0+ KB\n",
            "None\n"
          ],
          "name": "stdout"
        }
      ]
    },
    {
      "cell_type": "code",
      "metadata": {
        "id": "FCEzhUJLbIZA"
      },
      "source": [
        "train[\"Date\"]=pd.to_datetime(train['Date'],format=\"%Y-%m-%d\")\n",
        "test[\"Date\"]=pd.to_datetime(test['Date'],format=\"%Y-%m-%d\")"
      ],
      "execution_count": 4,
      "outputs": []
    },
    {
      "cell_type": "code",
      "metadata": {
        "colab": {
          "base_uri": "https://localhost:8080/",
          "height": 0
        },
        "id": "ogBAroeuY0ok",
        "outputId": "bbe9bb42-78b8-41fa-89cd-9e9ac70b0bd5"
      },
      "source": [
        "train.dtypes"
      ],
      "execution_count": 5,
      "outputs": [
        {
          "output_type": "execute_result",
          "data": {
            "text/plain": [
              "Date     datetime64[ns]\n",
              "Open            float64\n",
              "High            float64\n",
              "Low             float64\n",
              "Close           float64\n",
              "Up                int64\n",
              "dtype: object"
            ]
          },
          "metadata": {
            "tags": []
          },
          "execution_count": 5
        }
      ]
    },
    {
      "cell_type": "code",
      "metadata": {
        "colab": {
          "base_uri": "https://localhost:8080/",
          "height": 0
        },
        "id": "gTuHRQ8qFEzu",
        "outputId": "cbb0707e-41c1-43c1-cdb5-1bf78237fa13"
      },
      "source": [
        "#テストデータの日付のデータフレームを作成\n",
        "#最終的にテスト分析結果とconcatで横結合する。\n",
        "def test_date_df(X,num_date):\n",
        "  test_drop = X.iloc[5::6]\n",
        "  X_t_date_df = test_drop.drop([\"Open\",\"High\",\"Low\",\"Close\"],axis=1)\n",
        "  X_t_date_df = X_t_date_df.reset_index(drop=True)\n",
        "  return X_t_date_df\n",
        "num_date_s = 6\n",
        "X_test_date_list = test_date_df(X=test, num_date=num_date_s)\n",
        "print(X_test_date_list)"
      ],
      "execution_count": 6,
      "outputs": [
        {
          "output_type": "stream",
          "text": [
            "          Date\n",
            "0   2012-01-26\n",
            "1   2012-02-09\n",
            "2   2012-02-24\n",
            "3   2012-03-09\n",
            "4   2012-03-23\n",
            "..         ...\n",
            "195 2019-10-25\n",
            "196 2019-11-08\n",
            "197 2019-11-22\n",
            "198 2019-12-09\n",
            "199 2019-12-23\n",
            "\n",
            "[200 rows x 1 columns]\n"
          ],
          "name": "stdout"
        }
      ]
    },
    {
      "cell_type": "code",
      "metadata": {
        "colab": {
          "base_uri": "https://localhost:8080/",
          "height": 0
        },
        "id": "zbGVpLTdbqDe",
        "outputId": "caf7c7d8-875d-4d8e-f70f-2852f296880a"
      },
      "source": [
        "train.set_index(keys='Date',inplace=True)\n",
        "test.set_index(keys='Date',inplace=True)\n",
        "print(train)"
      ],
      "execution_count": 7,
      "outputs": [
        {
          "output_type": "stream",
          "text": [
            "              Open    High     Low   Close  Up\n",
            "Date                                          \n",
            "2004-01-02   50.85   50.91   50.62   50.72   1\n",
            "2004-01-05   50.75   50.84   50.61   50.79   1\n",
            "2004-01-06   50.87   51.26   50.86   51.15   1\n",
            "2004-01-07   51.45   51.54   51.29   51.51   0\n",
            "2004-01-08   51.15   51.33   51.02   51.28   0\n",
            "...            ...     ...     ...     ...  ..\n",
            "2012-01-11  108.62  109.00  108.41  108.86   1\n",
            "2012-01-12  109.68  109.90  109.44  109.83   0\n",
            "2012-01-13  109.53  109.72  109.08  109.66   1\n",
            "2012-01-17  109.99  110.47  109.57  109.96   1\n",
            "2012-01-18  110.06  110.82  109.94  110.58   0\n",
            "\n",
            "[2026 rows x 5 columns]\n"
          ],
          "name": "stdout"
        }
      ]
    },
    {
      "cell_type": "code",
      "metadata": {
        "id": "IklRvCMDcLb4",
        "colab": {
          "base_uri": "https://localhost:8080/",
          "height": 0
        },
        "outputId": "b9116604-9931-4b26-dd0d-8d3f64b753ed"
      },
      "source": [
        "print(train.describe())\n",
        "print(test.describe())"
      ],
      "execution_count": 8,
      "outputs": [
        {
          "output_type": "stream",
          "text": [
            "              Open         High          Low        Close           Up\n",
            "count  2026.000000  2026.000000  2026.000000  2026.000000  2026.000000\n",
            "mean     72.338425    72.714126    71.977957    72.353968     0.515795\n",
            "std      14.876363    14.968429    14.778285    14.874404     0.499874\n",
            "min      50.430000    50.650000    50.400000    50.610000     0.000000\n",
            "25%      57.702500    57.942500    57.415000    57.702500     0.000000\n",
            "50%      73.970000    74.430000    73.325000    73.835000     1.000000\n",
            "75%      81.230000    81.645000    80.717500    81.060000     1.000000\n",
            "max     110.510000   111.020000   110.380000   110.810000     1.000000\n",
            "              Open         High          Low        Close\n",
            "count  1200.000000  1200.000000  1200.000000  1200.000000\n",
            "mean    130.850575   131.469433   130.231283   130.850175\n",
            "std      29.564138    29.759571    29.304941    29.515361\n",
            "min      97.260000    97.690000    96.930000    97.470000\n",
            "25%     106.597500   107.120000   106.225000   106.630000\n",
            "50%     120.510000   121.085000   120.060000   120.495000\n",
            "75%     155.737500   156.652500   155.075000   155.737500\n",
            "max     205.550000   205.710000   202.530000   203.900000\n"
          ],
          "name": "stdout"
        }
      ]
    },
    {
      "cell_type": "code",
      "metadata": {
        "colab": {
          "base_uri": "https://localhost:8080/",
          "height": 795
        },
        "id": "ZYjj5TKRT9jF",
        "outputId": "11937085-1ac3-4bbd-8e1d-cdf1be203de2"
      },
      "source": [
        "train_check = train.loc[train.index > datetime(2012,1,1),[\"Open\",\"High\",\"Low\",\"Close\"]]\n",
        "test_check = test.loc[test.index > datetime(2019,10,1),:]\n",
        "print(train_check)\n",
        "\n",
        "train_check.plot(kind=\"line\")\n",
        "test_check.plot(kind=\"line\")\n",
        "plt.show()"
      ],
      "execution_count": 9,
      "outputs": [
        {
          "output_type": "stream",
          "text": [
            "              Open    High     Low   Close\n",
            "Date                                      \n",
            "2012-01-03  110.34  110.55  108.33  108.40\n",
            "2012-01-04  106.97  107.90  106.70  107.19\n",
            "2012-01-05  108.98  109.70  108.36  109.26\n",
            "2012-01-06  109.46  109.99  109.29  109.86\n",
            "2012-01-09  110.51  110.55  109.45  109.55\n",
            "2012-01-10  109.54  109.70  108.85  109.12\n",
            "2012-01-11  108.62  109.00  108.41  108.86\n",
            "2012-01-12  109.68  109.90  109.44  109.83\n",
            "2012-01-13  109.53  109.72  109.08  109.66\n",
            "2012-01-17  109.99  110.47  109.57  109.96\n",
            "2012-01-18  110.06  110.82  109.94  110.58\n"
          ],
          "name": "stdout"
        },
        {
          "output_type": "display_data",
          "data": {
            "image/png": "[encoded data removed]",
            "text/plain": [
              "<Figure size 432x288 with 1 Axes>"
            ]
          },
          "metadata": {
            "tags": [],
            "needs_background": "light"
          }
        },
        {
          "output_type": "display_data",
          "data": {
            "image/png": "[encoded data removed]",
            "text/plain": [
              "<Figure size 432x288 with 1 Axes>"
            ]
          },
          "metadata": {
            "tags": [],
            "needs_background": "light"
          }
        }
      ]
    },
    {
      "cell_type": "code",
      "metadata": {
        "colab": {
          "base_uri": "https://localhost:8080/",
          "height": 0
        },
        "id": "QpHhc1F-Uo4L",
        "outputId": "51102caa-963b-4b8b-8efb-aae8bd4c3e25"
      },
      "source": [
        "train[\"Body\"]= train[\"Open\"] - train[\"Close\"]\n",
        "print(train.head())\n",
        "test[\"Body\"]= test[\"Open\"] - test[\"Close\"]\n",
        "print(test.head())"
      ],
      "execution_count": 10,
      "outputs": [
        {
          "output_type": "stream",
          "text": [
            "             Open   High    Low  Close  Up  Body\n",
            "Date                                            \n",
            "2004-01-02  50.85  50.91  50.62  50.72   1  0.13\n",
            "2004-01-05  50.75  50.84  50.61  50.79   1 -0.04\n",
            "2004-01-06  50.87  51.26  50.86  51.15   1 -0.28\n",
            "2004-01-07  51.45  51.54  51.29  51.51   0 -0.06\n",
            "2004-01-08  51.15  51.33  51.02  51.28   0 -0.13\n",
            "              Open    High     Low   Close  Body\n",
            "Date                                            \n",
            "2012-01-19  110.79  110.82  109.96  110.39  0.40\n",
            "2012-01-20  110.45  111.10  110.36  110.73 -0.28\n",
            "2012-01-23  110.95  111.10  109.65  110.36  0.59\n",
            "2012-01-24  110.16  110.16  108.13  108.39  1.77\n",
            "2012-01-25  106.25  107.11  105.97  106.89 -0.64\n"
          ],
          "name": "stdout"
        }
      ]
    },
    {
      "cell_type": "code",
      "metadata": {
        "id": "8O0piZfk_0EJ"
      },
      "source": [
        "train['Rate']=((train['Close']-train['Close'].shift(1))/train['Close'].shift(1)).fillna(0)\n",
        "test['Rate']=((test['Close']-test['Close'].shift(1))/test['Close'].shift(1)).fillna(0)"
      ],
      "execution_count": 11,
      "outputs": []
    },
    {
      "cell_type": "code",
      "metadata": {
        "colab": {
          "base_uri": "https://localhost:8080/",
          "height": 0
        },
        "id": "NcxCuSCLW1LO",
        "outputId": "e04b5d68-25ee-41c1-d6ba-4bda3f318de1"
      },
      "source": [
        "X_trainval = train.drop(columns=[\"Up\"],inplace=False)\n",
        "y_trainval = train[\"Up\"]\n",
        "X_test = test\n",
        "print(X_test.head())"
      ],
      "execution_count": 12,
      "outputs": [
        {
          "output_type": "stream",
          "text": [
            "              Open    High     Low   Close  Body      Rate\n",
            "Date                                                      \n",
            "2012-01-19  110.79  110.82  109.96  110.39  0.40  0.000000\n",
            "2012-01-20  110.45  111.10  110.36  110.73 -0.28  0.003080\n",
            "2012-01-23  110.95  111.10  109.65  110.36  0.59 -0.003341\n",
            "2012-01-24  110.16  110.16  108.13  108.39  1.77 -0.017851\n",
            "2012-01-25  106.25  107.11  105.97  106.89 -0.64 -0.013839\n"
          ],
          "name": "stdout"
        }
      ]
    },
    {
      "cell_type": "code",
      "metadata": {
        "id": "sGh1rl_-fOO6"
      },
      "source": [
        "X_train,X_val,y_train,y_val = train_test_split(X_trainval,y_trainval,test_size=0.25,shuffle=False)"
      ],
      "execution_count": 13,
      "outputs": []
    },
    {
      "cell_type": "code",
      "metadata": {
        "colab": {
          "base_uri": "https://localhost:8080/",
          "height": 276
        },
        "id": "2auznqt6fQt2",
        "outputId": "e3e4a05b-57fa-4f42-a510-c98178f0af3d"
      },
      "source": [
        "X_train[\"Close\"].plot(kind=\"line\")\n",
        "X_val[\"Close\"].plot(kind=\"line\")\n",
        "\n",
        "# 折れ線グラフの凡例を表示\n",
        "plt.legend([\"Train\",\"Val\"])\n",
        "\n",
        "# 描画の実行\n",
        "plt.show()"
      ],
      "execution_count": 14,
      "outputs": [
        {
          "output_type": "display_data",
          "data": {
            "image/png": "[encoded data removed]",
            "text/plain": [
              "<Figure size 432x288 with 1 Axes>"
            ]
          },
          "metadata": {
            "tags": [],
            "needs_background": "light"
          }
        }
      ]
    },
    {
      "cell_type": "code",
      "metadata": {
        "colab": {
          "base_uri": "https://localhost:8080/",
          "height": 0
        },
        "id": "QteCphxtO_X5",
        "outputId": "8335a5b3-928a-4d0b-8c4b-87dc8cd88e8f"
      },
      "source": [
        "print(X_train)\n",
        "print(X_val)"
      ],
      "execution_count": 15,
      "outputs": [
        {
          "output_type": "stream",
          "text": [
            "             Open   High    Low  Close  Body      Rate\n",
            "Date                                                  \n",
            "2004-01-02  50.85  50.91  50.62  50.72  0.13  0.000000\n",
            "2004-01-05  50.75  50.84  50.61  50.79 -0.04  0.001380\n",
            "2004-01-06  50.87  51.26  50.86  51.15 -0.28  0.007088\n",
            "2004-01-07  51.45  51.54  51.29  51.51 -0.06  0.007038\n",
            "2004-01-08  51.15  51.33  51.02  51.28 -0.13 -0.004465\n",
            "...           ...    ...    ...    ...   ...       ...\n",
            "2010-01-07  79.15  80.00  79.04  79.65 -0.50  0.007973\n",
            "2010-01-08  79.97  80.08  79.45  79.63  0.34 -0.000251\n",
            "2010-01-11  79.42  79.74  79.29  79.65 -0.23  0.000251\n",
            "2010-01-12  79.77  80.26  79.75  80.26 -0.49  0.007659\n",
            "2010-01-13  80.92  81.26  80.69  80.71  0.21  0.005607\n",
            "\n",
            "[1519 rows x 6 columns]\n",
            "              Open    High     Low   Close  Body      Rate\n",
            "Date                                                      \n",
            "2010-01-14   80.18   80.31   79.81   80.25 -0.07 -0.005699\n",
            "2010-01-15   80.27   80.51   79.79   79.97  0.30 -0.003489\n",
            "2010-01-19   80.13   80.85   80.03   80.58 -0.45  0.007628\n",
            "2010-01-20   81.39   81.48   80.82   81.02  0.37  0.005460\n",
            "2010-01-21   80.50   80.99   80.37   80.68 -0.18 -0.004196\n",
            "...            ...     ...     ...     ...   ...       ...\n",
            "2012-01-11  108.62  109.00  108.41  108.86 -0.24 -0.002383\n",
            "2012-01-12  109.68  109.90  109.44  109.83 -0.15  0.008911\n",
            "2012-01-13  109.53  109.72  109.08  109.66 -0.13 -0.001548\n",
            "2012-01-17  109.99  110.47  109.57  109.96  0.03  0.002736\n",
            "2012-01-18  110.06  110.82  109.94  110.58 -0.52  0.005638\n",
            "\n",
            "[507 rows x 6 columns]\n"
          ],
          "name": "stdout"
        }
      ]
    },
    {
      "cell_type": "code",
      "metadata": {
        "colab": {
          "base_uri": "https://localhost:8080/",
          "height": 0
        },
        "id": "W8zMYd0AgMmy",
        "outputId": "b6dcf1f1-d696-4f07-de12-ce84432cfe6a"
      },
      "source": [
        "def get_standardized_t(X,num_date):\n",
        "  # numpyに変換\n",
        "  X = np.array(X)\n",
        "  X_t_list = []\n",
        "  for i in range(len(X) - num_date + 1):\n",
        "    # 終端は含まれないので、[0:6]だと0から5までになる。\n",
        "    X_t = X[i:i+num_date]\n",
        "    scaler = StandardScaler()\n",
        "    X_standardized = scaler.fit_transform(X_t)\n",
        "    X_t_list.append(X_standardized)\n",
        "    # numpyでreturn\n",
        "  return np.array(X_t_list)\n",
        "\n",
        "# 期間の設定(6日間)\n",
        "num_date = 6\n",
        "# 関数get_standardized_tの呼び出し\n",
        "X_train_t = get_standardized_t(X=X_train, num_date=num_date)\n",
        "X_val_t = get_standardized_t(X=X_val, num_date=num_date)\n",
        "\n",
        "def get_standardized_t_for_test(X,test_num_date):\n",
        "  X = np.array(X)\n",
        "  X_t_t_list = []\n",
        "  # x_testについては、個別に関数(get_standardized_t_for_test)を作っている。\n",
        "  # testデータは指定する際0:6,1:7ではなく0:6,7:12..としないといけないため。    \n",
        "  # trainデータと同じ関数内で処理することも可能だが、念のため分けることにした。\n",
        "  for i in range(int(len(X)/num_date)):\n",
        "    X_t_t = X[i*num_date:i*num_date+num_date]\n",
        "    scaler_t = StandardScaler()\n",
        "    X_standardized_t = scaler_t.fit_transform(X_t_t)\n",
        "    X_t_t_list.append(X_standardized_t)\n",
        "  # numpyでreturn\n",
        "  return np.array(X_t_t_list)\n",
        "\n",
        "# 期間の設定(6日間)\n",
        "test_num_date = 6\n",
        "# 関数get_standardized_t_for_testの呼び出し\n",
        "X_test_t = get_standardized_t_for_test(X=X_test, test_num_date=test_num_date)\n",
        "\n",
        "# 学習データの1件目を表示\n",
        "print(X_train_t[0])\n",
        "\n",
        "# 検証データの1件目を表示\n",
        "print(X_val_t[0])\n",
        "\n",
        "# 評価データの1件目を表示\n",
        "print(X_test_t[0])\n",
        "print(len(X_train_t))\n",
        "print(len(X_val_t))\n",
        "print(len(X_test_t))"
      ],
      "execution_count": 16,
      "outputs": [
        {
          "output_type": "stream",
          "text": [
            "[[-0.76337004 -1.17707369 -1.17859498 -1.30478103  1.27980501 -0.19665047]\n",
            " [-1.1874645  -1.46119493 -1.22043859 -1.04870251  0.04829453  0.08528238]\n",
            " [-0.67855114  0.24353249 -0.17434837  0.26827273 -1.69030851  1.25129155]\n",
            " [ 1.78119675  1.38001743  1.62492681  1.58524798 -0.09658906  1.24110076]\n",
            " [ 0.50891336  0.52765372  0.49514937  0.74384713 -0.60368161 -1.10879397]\n",
            " [ 0.33927557  0.48706498  0.45330576 -0.2438843   1.06247963 -1.27223025]]\n",
            "[[-0.80900982 -1.27272727 -1.07154719 -0.8665204  -0.15954003 -1.17899789]\n",
            " [-0.60097872 -0.90909091 -1.12649833 -1.66201454  1.15223357 -0.74174298]\n",
            " [-0.92458265 -0.29090909 -0.46708467  0.07102626 -1.50676697  1.45745965]\n",
            " [ 1.98785269  0.85454545  1.70348528  1.32108848  1.40040695  1.02868599]\n",
            " [-0.0693437  -0.03636364  0.46708467  0.35513131 -0.54952678 -0.88168342]\n",
            " [ 0.41606219  1.65454545  0.49456024  0.78128889 -0.33680673  0.31627864]]\n",
            "[[ 0.72973298  0.64130666  0.82493969  0.83016769  0.06146799  0.21023096]\n",
            " [ 0.52035811  0.83827105  1.09541172  1.07812407 -0.83420838  0.47724516]\n",
            " [ 0.82826232  0.83827105  0.61532387  0.80828918  0.3117305  -0.07945111]\n",
            " [ 0.34177367  0.17703347 -0.41246985 -0.62839926  1.86599242 -1.33730134]\n",
            " [-2.06603724 -1.96847146 -1.87301881 -1.72232447 -1.30838998 -0.98950929]\n",
            " [-0.35408984 -0.52641077 -0.25018663 -0.36585721 -0.09659255  1.71878562]]\n",
            "1514\n",
            "502\n",
            "200\n"
          ],
          "name": "stdout"
        }
      ]
    },
    {
      "cell_type": "code",
      "metadata": {
        "colab": {
          "base_uri": "https://localhost:8080/",
          "height": 0
        },
        "id": "Z8IE5gbWjd-A",
        "outputId": "450cd398-0872-46f1-b601-57960a04eb69"
      },
      "source": [
        "print(y_train.shape)\n",
        "print(X_train_t.shape)"
      ],
      "execution_count": 17,
      "outputs": [
        {
          "output_type": "stream",
          "text": [
            "(1519,)\n",
            "(1514, 6, 6)\n"
          ],
          "name": "stdout"
        }
      ]
    },
    {
      "cell_type": "code",
      "metadata": {
        "colab": {
          "base_uri": "https://localhost:8080/",
          "height": 0
        },
        "id": "U3rWPHPvDysj",
        "outputId": "7ce7f094-023e-436a-9dfc-5d2f94d9cda8"
      },
      "source": [
        "y_train_t = y_train[num_date-1:]\n",
        "y_val_t = y_val[num_date-1:]\n",
        "\n",
        "# 目的変数の形の表示\n",
        "print(y_train_t.shape)\n",
        "print(y_val_t.shape)\n",
        "\n",
        "# 目的変数の平均値の表示\n",
        "print(y_train_t.mean())\n",
        "print(y_val_t.mean())"
      ],
      "execution_count": 18,
      "outputs": [
        {
          "output_type": "stream",
          "text": [
            "(1514,)\n",
            "(502,)\n",
            "0.5105680317040951\n",
            "0.5298804780876494\n"
          ],
          "name": "stdout"
        }
      ]
    },
    {
      "cell_type": "code",
      "metadata": {
        "id": "bRcFcFpcITV1"
      },
      "source": [
        "# Sequentialのインポート\n",
        "from keras.models import Sequential\n",
        "# Dense、LSTMのインポート\n",
        "from keras.layers import Dense, Activation, LSTM\n",
        "# Dropoutのインポート\n",
        "from keras.layers import Dropout\n",
        "# バッチ正規化のインポート\n",
        "from keras.layers import BatchNormalization\n",
        "# 初期値のインポート\n",
        "from keras import initializers\n",
        "# L1,L2,エラスティック正則化\n",
        "from keras import regularizers\n",
        "# コールバック(early stopping, tensor board)\n",
        "from keras import callbacks\n",
        "# optimizer\n",
        "from keras import optimizers"
      ],
      "execution_count": 19,
      "outputs": []
    },
    {
      "cell_type": "code",
      "metadata": {
        "id": "gqrAyVA4IdC2"
      },
      "source": [
        ""
      ],
      "execution_count": null,
      "outputs": []
    },
    {
      "cell_type": "code",
      "metadata": {
        "id": "uL6WwFDckTc0"
      },
      "source": [
        "# お試し用のモデル\n",
        "# ネットワークの各層のサイズの定義\n",
        "num_l1 = 120\n",
        "num_l1_2 = 70\n",
        "num_l1_3 = 60\n",
        "num_l1_4 = 40\n",
        "num_l1_5 = 25\n",
        "num_l2 = 20\n",
        "num_l2_2 = 12\n",
        "num_output = 1\n",
        "\n",
        "#Optimizerの設定\n",
        "Optimizer = optimizers.Adam(learning_rate=0.001, beta_1=0.9, beta_2=0.999, epsilon=None, decay=0.0, amsgrad=False)\n",
        "\n",
        "#コールバック(early stoppingやテンソルボード)\n",
        "es_cb = callbacks.EarlyStopping(monitor='val_loss', patience=15, verbose=1, mode='auto')\n",
        "tb_cb = callbacks.TensorBoard(log_dir=DATA_PATH, histogram_freq=1)\n",
        "\n",
        "#Dropoutの率\n",
        "dropout_rate = 0.45\n",
        "\n",
        "# 以下、ネットワークを構築\n",
        "model2 = Sequential()\n",
        "\n",
        "# 第1層\n",
        "#model.add(LSTM(units=num_l1,\n",
        "#                activation='relu',\n",
        "#                batch_input_shape=(None, X_train_t.shape[1], X_train_t.shape[2])))\n",
        "\n",
        "#バッチ正規化用第1層, 複数LSTM層のため、return_sequenses＝Trueとする。\n",
        "model2.add(LSTM(units=num_l1,return_sequences=True,\n",
        "               batch_input_shape=(None, X_train_t.shape[1], X_train_t.shape[2])))\n",
        "model2.add(BatchNormalization())\n",
        "model2.add(Activation('tanh'))\n",
        "\n",
        "# Dropout\n",
        "model2.add(Dropout(dropout_rate))\n",
        "\n",
        "# 第2層 LSTM 2nd\n",
        "model2.add(LSTM(units=num_l1_2,return_sequences=True))\n",
        "model2.add(BatchNormalization())\n",
        "model2.add(Activation('tanh'))\n",
        "\n",
        "# Dropout\n",
        "model2.add(Dropout(dropout_rate))\n",
        "\n",
        "# 第3層 LSTM 3rd\n",
        "model2.add(LSTM(units=num_l1_3,return_sequences=True))\n",
        "model2.add(BatchNormalization())\n",
        "model2.add(Activation('tanh'))\n",
        "\n",
        "# Dropout\n",
        "model2.add(Dropout(dropout_rate))\n",
        "\n",
        "# 第4層 LSTM 4th\n",
        "model2.add(LSTM(units=num_l1_4,return_sequences=True))\n",
        "model2.add(BatchNormalization())\n",
        "model2.add(Activation('tanh'))\n",
        "\n",
        "# Dropout\n",
        "model2.add(Dropout(dropout_rate))\n",
        "\n",
        "# 第5層 LSTM 5th, 以降は全結合なので、return_sequencesはFalseにしておく。\n",
        "model2.add(LSTM(units=num_l1_5,return_sequences=False))\n",
        "model2.add(BatchNormalization())\n",
        "model2.add(Activation('tanh'))\n",
        "\n",
        "# Dropout\n",
        "model2.add(Dropout(dropout_rate))\n",
        "\n",
        "# 全結合層\n",
        "#model.add(Dense(num_l2, activation='relu'))\n",
        "\n",
        "#バッチ正規化用全結合層1\n",
        "model2.add(Dense(num_l2,kernel_regularizer=regularizers.l2(0.01)))\n",
        "model2.add(BatchNormalization())\n",
        "model2.add(Activation('relu'))\n",
        "\n",
        "# Dropout\n",
        "model2.add(Dropout(dropout_rate))\n",
        "\n",
        "#バッチ正規化用全結合層2\n",
        "model2.add(Dense(num_l2_2,kernel_regularizer=regularizers.l2(0.01)))\n",
        "model2.add(BatchNormalization())\n",
        "model2.add(Activation('relu'))\n",
        "\n",
        "# Dropout\n",
        "model2.add(Dropout(dropout_rate))\n",
        "\n",
        "# 出力層\n",
        "model2.add(Dense(num_output, activation='sigmoid'))\n",
        "\n",
        "# ネットワークのコンパイル\n",
        "model2.compile(loss='binary_crossentropy', optimizer='adam', metrics=['accuracy'])"
      ],
      "execution_count": 21,
      "outputs": []
    },
    {
      "cell_type": "code",
      "metadata": {
        "colab": {
          "base_uri": "https://localhost:8080/",
          "height": 0
        },
        "id": "hWdWUkuGiCSn",
        "outputId": "1b720e6f-f6a0-4e95-c2c8-8dfa34b6f31d"
      },
      "source": [
        "# ネットワーク編集テスト用\n",
        "result2 = model2.fit(x=X_train_t, y=y_train_t, epochs=140, batch_size=64, validation_data=(X_val_t, y_val_t),callbacks=[es_cb,tb_cb])"
      ],
      "execution_count": 22,
      "outputs": [
        {
          "output_type": "stream",
          "text": [
            "Epoch 1/140\n",
            "24/24 [==============================] - 36s 233ms/step - loss: 1.1998 - accuracy: 0.4658 - val_loss: 1.0339 - val_accuracy: 0.5299\n",
            "Epoch 2/140\n",
            "24/24 [==============================] - 1s 41ms/step - loss: 1.1178 - accuracy: 0.4807 - val_loss: 1.0118 - val_accuracy: 0.5299\n",
            "Epoch 3/140\n",
            "24/24 [==============================] - 1s 39ms/step - loss: 1.0780 - accuracy: 0.5219 - val_loss: 0.9911 - val_accuracy: 0.5299\n",
            "Epoch 4/140\n",
            "24/24 [==============================] - 1s 39ms/step - loss: 1.0476 - accuracy: 0.5237 - val_loss: 0.9716 - val_accuracy: 0.5299\n",
            "Epoch 5/140\n",
            "24/24 [==============================] - 1s 43ms/step - loss: 1.0294 - accuracy: 0.5095 - val_loss: 0.9536 - val_accuracy: 0.5299\n",
            "Epoch 6/140\n",
            "24/24 [==============================] - 1s 40ms/step - loss: 1.0016 - accuracy: 0.4826 - val_loss: 0.9371 - val_accuracy: 0.5299\n",
            "Epoch 7/140\n",
            "24/24 [==============================] - 1s 39ms/step - loss: 0.9720 - accuracy: 0.4936 - val_loss: 0.9210 - val_accuracy: 0.5299\n",
            "Epoch 8/140\n",
            "24/24 [==============================] - 1s 42ms/step - loss: 0.9370 - accuracy: 0.5200 - val_loss: 0.9055 - val_accuracy: 0.5239\n",
            "Epoch 9/140\n",
            "24/24 [==============================] - 1s 42ms/step - loss: 0.9297 - accuracy: 0.5162 - val_loss: 0.8916 - val_accuracy: 0.5259\n",
            "Epoch 10/140\n",
            "24/24 [==============================] - 1s 42ms/step - loss: 0.9328 - accuracy: 0.4840 - val_loss: 0.8798 - val_accuracy: 0.5159\n",
            "Epoch 11/140\n",
            "24/24 [==============================] - 1s 42ms/step - loss: 0.9134 - accuracy: 0.4761 - val_loss: 0.8684 - val_accuracy: 0.5020\n",
            "Epoch 12/140\n",
            "24/24 [==============================] - 1s 39ms/step - loss: 0.8860 - accuracy: 0.5116 - val_loss: 0.8570 - val_accuracy: 0.5020\n",
            "Epoch 13/140\n",
            "24/24 [==============================] - 1s 41ms/step - loss: 0.8751 - accuracy: 0.5407 - val_loss: 0.8463 - val_accuracy: 0.4880\n",
            "Epoch 14/140\n",
            "24/24 [==============================] - 1s 39ms/step - loss: 0.8762 - accuracy: 0.4923 - val_loss: 0.8362 - val_accuracy: 0.5060\n",
            "Epoch 15/140\n",
            "24/24 [==============================] - 1s 38ms/step - loss: 0.8617 - accuracy: 0.5048 - val_loss: 0.8268 - val_accuracy: 0.4920\n",
            "Epoch 16/140\n",
            "24/24 [==============================] - 1s 41ms/step - loss: 0.8436 - accuracy: 0.4989 - val_loss: 0.8173 - val_accuracy: 0.5020\n",
            "Epoch 17/140\n",
            "24/24 [==============================] - 1s 41ms/step - loss: 0.8276 - accuracy: 0.5191 - val_loss: 0.8086 - val_accuracy: 0.4920\n",
            "Epoch 18/140\n",
            "24/24 [==============================] - 1s 42ms/step - loss: 0.8291 - accuracy: 0.4993 - val_loss: 0.8004 - val_accuracy: 0.5120\n",
            "Epoch 19/140\n",
            "24/24 [==============================] - 1s 42ms/step - loss: 0.8151 - accuracy: 0.5148 - val_loss: 0.7937 - val_accuracy: 0.4980\n",
            "Epoch 20/140\n",
            "24/24 [==============================] - 1s 42ms/step - loss: 0.8057 - accuracy: 0.4951 - val_loss: 0.7867 - val_accuracy: 0.5239\n",
            "Epoch 21/140\n",
            "24/24 [==============================] - 1s 41ms/step - loss: 0.7900 - accuracy: 0.5340 - val_loss: 0.7802 - val_accuracy: 0.5100\n",
            "Epoch 22/140\n",
            "24/24 [==============================] - 1s 42ms/step - loss: 0.7970 - accuracy: 0.5084 - val_loss: 0.7737 - val_accuracy: 0.5239\n",
            "Epoch 23/140\n",
            "24/24 [==============================] - 1s 42ms/step - loss: 0.7898 - accuracy: 0.5042 - val_loss: 0.7694 - val_accuracy: 0.5239\n",
            "Epoch 24/140\n",
            "24/24 [==============================] - 1s 43ms/step - loss: 0.7682 - accuracy: 0.5393 - val_loss: 0.7646 - val_accuracy: 0.5139\n",
            "Epoch 25/140\n",
            "24/24 [==============================] - 1s 39ms/step - loss: 0.7769 - accuracy: 0.4961 - val_loss: 0.7605 - val_accuracy: 0.5080\n",
            "Epoch 26/140\n",
            "24/24 [==============================] - 1s 41ms/step - loss: 0.7705 - accuracy: 0.5049 - val_loss: 0.7559 - val_accuracy: 0.4920\n",
            "Epoch 27/140\n",
            "24/24 [==============================] - 1s 41ms/step - loss: 0.7684 - accuracy: 0.5009 - val_loss: 0.7515 - val_accuracy: 0.5020\n",
            "Epoch 28/140\n",
            "24/24 [==============================] - 1s 40ms/step - loss: 0.7528 - accuracy: 0.5357 - val_loss: 0.7473 - val_accuracy: 0.4861\n",
            "Epoch 29/140\n",
            "24/24 [==============================] - 1s 42ms/step - loss: 0.7541 - accuracy: 0.5178 - val_loss: 0.7434 - val_accuracy: 0.5120\n",
            "Epoch 30/140\n",
            "24/24 [==============================] - 1s 39ms/step - loss: 0.7493 - accuracy: 0.5154 - val_loss: 0.7392 - val_accuracy: 0.5359\n",
            "Epoch 31/140\n",
            "24/24 [==============================] - 1s 39ms/step - loss: 0.7478 - accuracy: 0.5273 - val_loss: 0.7363 - val_accuracy: 0.5159\n",
            "Epoch 32/140\n",
            "24/24 [==============================] - 1s 42ms/step - loss: 0.7338 - accuracy: 0.5657 - val_loss: 0.7329 - val_accuracy: 0.5339\n",
            "Epoch 33/140\n",
            "24/24 [==============================] - 1s 39ms/step - loss: 0.7358 - accuracy: 0.5148 - val_loss: 0.7297 - val_accuracy: 0.5279\n",
            "Epoch 34/140\n",
            "24/24 [==============================] - 1s 41ms/step - loss: 0.7410 - accuracy: 0.4963 - val_loss: 0.7267 - val_accuracy: 0.5339\n",
            "Epoch 35/140\n",
            "24/24 [==============================] - 1s 42ms/step - loss: 0.7337 - accuracy: 0.5250 - val_loss: 0.7242 - val_accuracy: 0.5319\n",
            "Epoch 36/140\n",
            "24/24 [==============================] - 1s 43ms/step - loss: 0.7241 - accuracy: 0.5504 - val_loss: 0.7234 - val_accuracy: 0.5159\n",
            "Epoch 37/140\n",
            "24/24 [==============================] - 1s 39ms/step - loss: 0.7286 - accuracy: 0.5046 - val_loss: 0.7221 - val_accuracy: 0.5020\n",
            "Epoch 38/140\n",
            "24/24 [==============================] - 1s 43ms/step - loss: 0.7280 - accuracy: 0.4907 - val_loss: 0.7203 - val_accuracy: 0.5100\n",
            "Epoch 39/140\n",
            "24/24 [==============================] - 1s 40ms/step - loss: 0.7226 - accuracy: 0.5221 - val_loss: 0.7185 - val_accuracy: 0.5299\n",
            "Epoch 40/140\n",
            "24/24 [==============================] - 1s 39ms/step - loss: 0.7211 - accuracy: 0.5241 - val_loss: 0.7171 - val_accuracy: 0.5438\n",
            "Epoch 41/140\n",
            "24/24 [==============================] - 1s 42ms/step - loss: 0.7188 - accuracy: 0.5062 - val_loss: 0.7153 - val_accuracy: 0.5040\n",
            "Epoch 42/140\n",
            "24/24 [==============================] - 1s 40ms/step - loss: 0.7178 - accuracy: 0.5321 - val_loss: 0.7133 - val_accuracy: 0.5458\n",
            "Epoch 43/140\n",
            "24/24 [==============================] - 1s 42ms/step - loss: 0.7174 - accuracy: 0.5048 - val_loss: 0.7104 - val_accuracy: 0.5319\n",
            "Epoch 44/140\n",
            "24/24 [==============================] - 1s 42ms/step - loss: 0.7140 - accuracy: 0.5206 - val_loss: 0.7094 - val_accuracy: 0.5378\n",
            "Epoch 45/140\n",
            "24/24 [==============================] - 1s 42ms/step - loss: 0.7169 - accuracy: 0.5130 - val_loss: 0.7084 - val_accuracy: 0.5339\n",
            "Epoch 46/140\n",
            "24/24 [==============================] - 1s 42ms/step - loss: 0.7089 - accuracy: 0.5092 - val_loss: 0.7064 - val_accuracy: 0.5239\n",
            "Epoch 47/140\n",
            "24/24 [==============================] - 1s 39ms/step - loss: 0.6997 - accuracy: 0.5569 - val_loss: 0.7056 - val_accuracy: 0.5239\n",
            "Epoch 48/140\n",
            "24/24 [==============================] - 1s 43ms/step - loss: 0.7004 - accuracy: 0.5356 - val_loss: 0.7044 - val_accuracy: 0.5458\n",
            "Epoch 49/140\n",
            "24/24 [==============================] - 1s 39ms/step - loss: 0.7057 - accuracy: 0.5433 - val_loss: 0.7023 - val_accuracy: 0.5398\n",
            "Epoch 50/140\n",
            "24/24 [==============================] - 1s 42ms/step - loss: 0.7001 - accuracy: 0.5408 - val_loss: 0.7013 - val_accuracy: 0.5359\n",
            "Epoch 51/140\n",
            "24/24 [==============================] - 1s 42ms/step - loss: 0.6989 - accuracy: 0.5557 - val_loss: 0.7022 - val_accuracy: 0.5279\n",
            "Epoch 52/140\n",
            "24/24 [==============================] - 1s 39ms/step - loss: 0.7014 - accuracy: 0.5420 - val_loss: 0.7026 - val_accuracy: 0.5179\n",
            "Epoch 53/140\n",
            "24/24 [==============================] - 1s 39ms/step - loss: 0.6963 - accuracy: 0.5657 - val_loss: 0.6992 - val_accuracy: 0.5398\n",
            "Epoch 54/140\n",
            "24/24 [==============================] - 1s 42ms/step - loss: 0.7001 - accuracy: 0.5231 - val_loss: 0.6994 - val_accuracy: 0.5319\n",
            "Epoch 55/140\n",
            "24/24 [==============================] - 1s 42ms/step - loss: 0.7036 - accuracy: 0.5310 - val_loss: 0.6995 - val_accuracy: 0.5339\n",
            "Epoch 56/140\n",
            "24/24 [==============================] - 1s 42ms/step - loss: 0.6935 - accuracy: 0.5516 - val_loss: 0.6982 - val_accuracy: 0.5378\n",
            "Epoch 57/140\n",
            "24/24 [==============================] - 1s 43ms/step - loss: 0.6901 - accuracy: 0.5711 - val_loss: 0.6942 - val_accuracy: 0.5518\n",
            "Epoch 58/140\n",
            "24/24 [==============================] - 1s 39ms/step - loss: 0.6998 - accuracy: 0.5530 - val_loss: 0.6928 - val_accuracy: 0.5538\n",
            "Epoch 59/140\n",
            "24/24 [==============================] - 1s 42ms/step - loss: 0.6911 - accuracy: 0.5337 - val_loss: 0.6939 - val_accuracy: 0.5359\n",
            "Epoch 60/140\n",
            "24/24 [==============================] - 1s 39ms/step - loss: 0.6955 - accuracy: 0.5307 - val_loss: 0.6937 - val_accuracy: 0.5319\n",
            "Epoch 61/140\n",
            "24/24 [==============================] - 1s 42ms/step - loss: 0.6909 - accuracy: 0.5700 - val_loss: 0.6924 - val_accuracy: 0.5359\n",
            "Epoch 62/140\n",
            "24/24 [==============================] - 1s 44ms/step - loss: 0.6918 - accuracy: 0.5574 - val_loss: 0.6921 - val_accuracy: 0.5378\n",
            "Epoch 63/140\n",
            "24/24 [==============================] - 1s 41ms/step - loss: 0.6856 - accuracy: 0.5639 - val_loss: 0.6894 - val_accuracy: 0.5359\n",
            "Epoch 64/140\n",
            "24/24 [==============================] - 1s 40ms/step - loss: 0.6909 - accuracy: 0.5683 - val_loss: 0.6935 - val_accuracy: 0.5378\n",
            "Epoch 65/140\n",
            "24/24 [==============================] - 1s 43ms/step - loss: 0.6928 - accuracy: 0.5375 - val_loss: 0.6918 - val_accuracy: 0.5398\n",
            "Epoch 66/140\n",
            "24/24 [==============================] - 1s 43ms/step - loss: 0.6895 - accuracy: 0.5731 - val_loss: 0.6867 - val_accuracy: 0.5478\n",
            "Epoch 67/140\n",
            "24/24 [==============================] - 1s 40ms/step - loss: 0.6878 - accuracy: 0.5589 - val_loss: 0.6861 - val_accuracy: 0.5478\n",
            "Epoch 68/140\n",
            "24/24 [==============================] - 1s 40ms/step - loss: 0.6873 - accuracy: 0.5632 - val_loss: 0.6847 - val_accuracy: 0.5518\n",
            "Epoch 69/140\n",
            "24/24 [==============================] - 1s 42ms/step - loss: 0.6845 - accuracy: 0.5454 - val_loss: 0.6872 - val_accuracy: 0.5518\n",
            "Epoch 70/140\n",
            "24/24 [==============================] - 1s 43ms/step - loss: 0.6844 - accuracy: 0.5790 - val_loss: 0.6846 - val_accuracy: 0.5538\n",
            "Epoch 71/140\n",
            "24/24 [==============================] - 1s 43ms/step - loss: 0.6862 - accuracy: 0.5754 - val_loss: 0.6818 - val_accuracy: 0.5757\n",
            "Epoch 72/140\n",
            "24/24 [==============================] - 1s 42ms/step - loss: 0.6867 - accuracy: 0.5951 - val_loss: 0.6850 - val_accuracy: 0.5657\n",
            "Epoch 73/140\n",
            "24/24 [==============================] - 1s 40ms/step - loss: 0.6824 - accuracy: 0.5841 - val_loss: 0.6876 - val_accuracy: 0.5438\n",
            "Epoch 74/140\n",
            "24/24 [==============================] - 1s 41ms/step - loss: 0.6858 - accuracy: 0.5776 - val_loss: 0.6811 - val_accuracy: 0.5717\n",
            "Epoch 75/140\n",
            "24/24 [==============================] - 1s 42ms/step - loss: 0.6879 - accuracy: 0.5519 - val_loss: 0.6839 - val_accuracy: 0.5498\n",
            "Epoch 76/140\n",
            "24/24 [==============================] - 1s 43ms/step - loss: 0.6824 - accuracy: 0.5808 - val_loss: 0.6844 - val_accuracy: 0.5578\n",
            "Epoch 77/140\n",
            "24/24 [==============================] - 1s 42ms/step - loss: 0.6755 - accuracy: 0.5771 - val_loss: 0.6787 - val_accuracy: 0.5737\n",
            "Epoch 78/140\n",
            "24/24 [==============================] - 1s 42ms/step - loss: 0.6903 - accuracy: 0.5669 - val_loss: 0.6807 - val_accuracy: 0.5657\n",
            "Epoch 79/140\n",
            "24/24 [==============================] - 1s 40ms/step - loss: 0.6726 - accuracy: 0.5873 - val_loss: 0.6770 - val_accuracy: 0.5618\n",
            "Epoch 80/140\n",
            "24/24 [==============================] - 1s 41ms/step - loss: 0.6813 - accuracy: 0.5638 - val_loss: 0.6746 - val_accuracy: 0.5777\n",
            "Epoch 81/140\n",
            "24/24 [==============================] - 1s 43ms/step - loss: 0.6890 - accuracy: 0.5815 - val_loss: 0.6797 - val_accuracy: 0.5538\n",
            "Epoch 82/140\n",
            "24/24 [==============================] - 1s 40ms/step - loss: 0.6756 - accuracy: 0.6006 - val_loss: 0.6743 - val_accuracy: 0.5936\n",
            "Epoch 83/140\n",
            "24/24 [==============================] - 1s 40ms/step - loss: 0.6828 - accuracy: 0.5718 - val_loss: 0.6827 - val_accuracy: 0.5618\n",
            "Epoch 84/140\n",
            "24/24 [==============================] - 1s 43ms/step - loss: 0.6823 - accuracy: 0.5789 - val_loss: 0.6795 - val_accuracy: 0.5657\n",
            "Epoch 85/140\n",
            "24/24 [==============================] - 1s 40ms/step - loss: 0.6702 - accuracy: 0.6037 - val_loss: 0.6752 - val_accuracy: 0.5976\n",
            "Epoch 86/140\n",
            "24/24 [==============================] - 1s 39ms/step - loss: 0.6824 - accuracy: 0.5757 - val_loss: 0.6731 - val_accuracy: 0.5817\n",
            "Epoch 87/140\n",
            "24/24 [==============================] - 1s 44ms/step - loss: 0.6671 - accuracy: 0.5941 - val_loss: 0.6701 - val_accuracy: 0.5737\n",
            "Epoch 88/140\n",
            "24/24 [==============================] - 1s 43ms/step - loss: 0.6758 - accuracy: 0.5833 - val_loss: 0.6753 - val_accuracy: 0.5618\n",
            "Epoch 89/140\n",
            "24/24 [==============================] - 1s 44ms/step - loss: 0.6731 - accuracy: 0.5850 - val_loss: 0.6669 - val_accuracy: 0.5857\n",
            "Epoch 90/140\n",
            "24/24 [==============================] - 1s 40ms/step - loss: 0.6745 - accuracy: 0.6014 - val_loss: 0.6694 - val_accuracy: 0.6016\n",
            "Epoch 91/140\n",
            "24/24 [==============================] - 1s 42ms/step - loss: 0.6680 - accuracy: 0.5966 - val_loss: 0.6662 - val_accuracy: 0.5996\n",
            "Epoch 92/140\n",
            "24/24 [==============================] - 1s 42ms/step - loss: 0.6719 - accuracy: 0.6116 - val_loss: 0.6764 - val_accuracy: 0.5657\n",
            "Epoch 93/140\n",
            "24/24 [==============================] - 1s 40ms/step - loss: 0.6703 - accuracy: 0.5886 - val_loss: 0.6743 - val_accuracy: 0.5876\n",
            "Epoch 94/140\n",
            "24/24 [==============================] - 1s 40ms/step - loss: 0.6762 - accuracy: 0.5710 - val_loss: 0.6654 - val_accuracy: 0.5956\n",
            "Epoch 95/140\n",
            "24/24 [==============================] - 1s 43ms/step - loss: 0.6683 - accuracy: 0.6098 - val_loss: 0.6672 - val_accuracy: 0.5717\n",
            "Epoch 96/140\n",
            "24/24 [==============================] - 1s 43ms/step - loss: 0.6613 - accuracy: 0.6038 - val_loss: 0.6712 - val_accuracy: 0.5737\n",
            "Epoch 97/140\n",
            "24/24 [==============================] - 1s 43ms/step - loss: 0.6671 - accuracy: 0.6099 - val_loss: 0.6679 - val_accuracy: 0.5697\n",
            "Epoch 98/140\n",
            "24/24 [==============================] - 1s 41ms/step - loss: 0.6616 - accuracy: 0.6174 - val_loss: 0.6623 - val_accuracy: 0.5956\n",
            "Epoch 99/140\n",
            "24/24 [==============================] - 1s 42ms/step - loss: 0.6500 - accuracy: 0.6212 - val_loss: 0.6794 - val_accuracy: 0.5598\n",
            "Epoch 100/140\n",
            "24/24 [==============================] - 1s 42ms/step - loss: 0.6585 - accuracy: 0.6328 - val_loss: 0.6600 - val_accuracy: 0.5976\n",
            "Epoch 101/140\n",
            "24/24 [==============================] - 1s 43ms/step - loss: 0.6601 - accuracy: 0.6111 - val_loss: 0.6731 - val_accuracy: 0.5837\n",
            "Epoch 102/140\n",
            "24/24 [==============================] - 1s 42ms/step - loss: 0.6582 - accuracy: 0.6280 - val_loss: 0.6644 - val_accuracy: 0.6155\n",
            "Epoch 103/140\n",
            "24/24 [==============================] - 1s 40ms/step - loss: 0.6626 - accuracy: 0.6015 - val_loss: 0.6752 - val_accuracy: 0.5896\n",
            "Epoch 104/140\n",
            "24/24 [==============================] - 1s 42ms/step - loss: 0.6622 - accuracy: 0.6176 - val_loss: 0.6537 - val_accuracy: 0.6355\n",
            "Epoch 105/140\n",
            "24/24 [==============================] - 1s 43ms/step - loss: 0.6515 - accuracy: 0.6438 - val_loss: 0.6585 - val_accuracy: 0.6155\n",
            "Epoch 106/140\n",
            "24/24 [==============================] - 1s 40ms/step - loss: 0.6631 - accuracy: 0.6323 - val_loss: 0.6633 - val_accuracy: 0.5956\n",
            "Epoch 107/140\n",
            "24/24 [==============================] - 1s 43ms/step - loss: 0.6590 - accuracy: 0.6046 - val_loss: 0.6522 - val_accuracy: 0.6295\n",
            "Epoch 108/140\n",
            "24/24 [==============================] - 1s 42ms/step - loss: 0.6568 - accuracy: 0.6085 - val_loss: 0.6581 - val_accuracy: 0.6215\n",
            "Epoch 109/140\n",
            "24/24 [==============================] - 1s 40ms/step - loss: 0.6561 - accuracy: 0.6175 - val_loss: 0.6501 - val_accuracy: 0.6215\n",
            "Epoch 110/140\n",
            "24/24 [==============================] - 1s 40ms/step - loss: 0.6477 - accuracy: 0.6307 - val_loss: 0.6524 - val_accuracy: 0.6275\n",
            "Epoch 111/140\n",
            "24/24 [==============================] - 1s 42ms/step - loss: 0.6276 - accuracy: 0.6497 - val_loss: 0.6611 - val_accuracy: 0.6036\n",
            "Epoch 112/140\n",
            "24/24 [==============================] - 1s 43ms/step - loss: 0.6628 - accuracy: 0.6112 - val_loss: 0.6572 - val_accuracy: 0.6116\n",
            "Epoch 113/140\n",
            "24/24 [==============================] - 1s 42ms/step - loss: 0.6570 - accuracy: 0.6330 - val_loss: 0.6517 - val_accuracy: 0.6116\n",
            "Epoch 114/140\n",
            "24/24 [==============================] - 1s 43ms/step - loss: 0.6390 - accuracy: 0.6607 - val_loss: 0.6577 - val_accuracy: 0.6116\n",
            "Epoch 115/140\n",
            "24/24 [==============================] - 1s 42ms/step - loss: 0.6561 - accuracy: 0.6446 - val_loss: 0.6543 - val_accuracy: 0.6235\n",
            "Epoch 116/140\n",
            "24/24 [==============================] - 1s 40ms/step - loss: 0.6383 - accuracy: 0.6509 - val_loss: 0.6594 - val_accuracy: 0.6036\n",
            "Epoch 117/140\n",
            "24/24 [==============================] - 1s 40ms/step - loss: 0.6217 - accuracy: 0.6715 - val_loss: 0.6834 - val_accuracy: 0.5936\n",
            "Epoch 118/140\n",
            "24/24 [==============================] - 1s 43ms/step - loss: 0.6401 - accuracy: 0.6703 - val_loss: 0.6622 - val_accuracy: 0.6056\n",
            "Epoch 119/140\n",
            "24/24 [==============================] - 1s 40ms/step - loss: 0.6495 - accuracy: 0.6406 - val_loss: 0.6662 - val_accuracy: 0.6255\n",
            "Epoch 120/140\n",
            "24/24 [==============================] - 1s 40ms/step - loss: 0.6360 - accuracy: 0.6588 - val_loss: 0.6602 - val_accuracy: 0.6315\n",
            "Epoch 121/140\n",
            "24/24 [==============================] - 1s 43ms/step - loss: 0.6378 - accuracy: 0.6457 - val_loss: 0.6621 - val_accuracy: 0.6255\n",
            "Epoch 122/140\n",
            "24/24 [==============================] - 1s 44ms/step - loss: 0.6361 - accuracy: 0.6451 - val_loss: 0.6661 - val_accuracy: 0.6135\n",
            "Epoch 123/140\n",
            "24/24 [==============================] - 1s 41ms/step - loss: 0.6364 - accuracy: 0.6636 - val_loss: 0.6572 - val_accuracy: 0.6076\n",
            "Epoch 124/140\n",
            "24/24 [==============================] - 1s 43ms/step - loss: 0.6463 - accuracy: 0.6533 - val_loss: 0.6583 - val_accuracy: 0.6096\n",
            "Epoch 00124: early stopping\n"
          ],
          "name": "stdout"
        }
      ]
    },
    {
      "cell_type": "code",
      "metadata": {
        "colab": {
          "base_uri": "https://localhost:8080/",
          "height": 288
        },
        "id": "SlM7wXn3jazO",
        "outputId": "4ef42b6c-8ce8-4e12-f895-8315f2168bd7"
      },
      "source": [
        "# テスト用result2の損失関数など\n",
        "# matplotlibのインポート\n",
        "from matplotlib import pyplot as plt\n",
        "\n",
        "# 折れ線グラフによる学習データの損失の描画\n",
        "plt.plot(result2.history['loss'])\n",
        "\n",
        "# 折れ線グラフによる検証データの損失の描画\n",
        "plt.plot(result2.history['val_loss'])\n",
        "\n",
        "# 凡例の指定\n",
        "plt.legend(['Train', 'Val'])\n",
        "\n",
        "# グラフの軸タイトルの指定\n",
        "plt.xlabel('Epoch')\n",
        "plt.ylabel('Loss')\n",
        "\n",
        "# 描画の実行\n",
        "plt.show()"
      ],
      "execution_count": 24,
      "outputs": [
        {
          "output_type": "display_data",
          "data": {
            "image/png": "[encoded data removed]",
            "text/plain": [
              "<Figure size 432x288 with 1 Axes>"
            ]
          },
          "metadata": {
            "tags": [],
            "needs_background": "light"
          }
        }
      ]
    },
    {
      "cell_type": "code",
      "metadata": {
        "colab": {
          "base_uri": "https://localhost:8080/",
          "height": 285
        },
        "id": "vrJof0ZJJF4a",
        "outputId": "0e71aba6-191e-4f60-b299-008958277ca0"
      },
      "source": [
        "# テスト用result2の正解率\n",
        "# matplotlibのインポート\n",
        "from matplotlib import pyplot as plt\n",
        "\n",
        "# 折れ線グラフによる学習データの正解率の描画\n",
        "plt.plot(result2.history['accuracy'])\n",
        "\n",
        "# 折れ線グラフによる検証データの正解率の描画\n",
        "plt.plot(result2.history['val_accuracy'])\n",
        "\n",
        "# 凡例の指定\n",
        "plt.legend(['Train', 'Val'])\n",
        "\n",
        "# グラフの軸タイトルの指定\n",
        "plt.xlabel('Epoch')\n",
        "plt.ylabel('Accuracy')\n",
        "\n",
        "# 描画の実行\n",
        "plt.show()"
      ],
      "execution_count": 25,
      "outputs": [
        {
          "output_type": "display_data",
          "data": {
            "image/png": "[encoded data removed]",
            "text/plain": [
              "<Figure size 432x288 with 1 Axes>"
            ]
          },
          "metadata": {
            "tags": [],
            "needs_background": "light"
          }
        }
      ]
    },
    {
      "cell_type": "code",
      "metadata": {
        "colab": {
          "base_uri": "https://localhost:8080/",
          "height": 0
        },
        "id": "qSqNV5ZGkOou",
        "outputId": "fd45c2c8-e6bd-42f2-a96d-d0af04489bcd"
      },
      "source": [
        "print(X_test_t.shape)"
      ],
      "execution_count": 27,
      "outputs": [
        {
          "output_type": "stream",
          "text": [
            "(200, 6, 6)\n"
          ],
          "name": "stdout"
        }
      ]
    },
    {
      "cell_type": "code",
      "metadata": {
        "id": "-zQlIBhvj1kt"
      },
      "source": [
        "pred_prob=model2.predict(X_test_t)"
      ],
      "execution_count": 26,
      "outputs": []
    },
    {
      "cell_type": "code",
      "metadata": {
        "colab": {
          "base_uri": "https://localhost:8080/",
          "height": 0
        },
        "id": "0MpVJKGs2x7R",
        "outputId": "90bbbab7-f197-4274-e73e-64049ee646ea"
      },
      "source": [
        "print(pred_prob[:12])"
      ],
      "execution_count": 28,
      "outputs": [
        {
          "output_type": "stream",
          "text": [
            "[[0.44155243]\n",
            " [0.45981693]\n",
            " [0.3187552 ]\n",
            " [0.29267836]\n",
            " [0.34802318]\n",
            " [0.73327667]\n",
            " [0.51520574]\n",
            " [0.32093877]\n",
            " [0.558807  ]\n",
            " [0.48795697]\n",
            " [0.5014661 ]\n",
            " [0.47618818]]\n"
          ],
          "name": "stdout"
        }
      ]
    },
    {
      "cell_type": "code",
      "metadata": {
        "colab": {
          "base_uri": "https://localhost:8080/",
          "height": 0
        },
        "id": "eU2ugs2m28yu",
        "outputId": "f16c7627-1e46-4b34-ca77-6d8660d861c6"
      },
      "source": [
        "pred=np.round(pred_prob)\n",
        "pred_df=pd.DataFrame(pred)\n",
        "pred_df_int=pred_df[0].astype(\"int\")\n",
        "print(pred_df_int)\n",
        "#pred_flatten=np.ravel(pred)\n",
        "#print(pred_flatten)"
      ],
      "execution_count": 29,
      "outputs": [
        {
          "output_type": "stream",
          "text": [
            "0      0\n",
            "1      0\n",
            "2      0\n",
            "3      0\n",
            "4      0\n",
            "      ..\n",
            "195    0\n",
            "196    0\n",
            "197    0\n",
            "198    0\n",
            "199    0\n",
            "Name: 0, Length: 200, dtype: int64\n"
          ],
          "name": "stdout"
        }
      ]
    },
    {
      "cell_type": "code",
      "metadata": {
        "id": "QfBA8ba8lfmE"
      },
      "source": [
        "pred_df_int.dtype\n",
        "final_df=pd.concat([X_test_date_list, pred_df_int], axis=1)\n"
      ],
      "execution_count": 30,
      "outputs": []
    },
    {
      "cell_type": "code",
      "metadata": {
        "colab": {
          "base_uri": "https://localhost:8080/",
          "height": 419
        },
        "id": "9LuPtb23b0Z0",
        "outputId": "6ceef6c0-1065-4563-fa36-967a0ee95d66"
      },
      "source": [
        "final_df"
      ],
      "execution_count": 31,
      "outputs": [
        {
          "output_type": "execute_result",
          "data": {
            "text/html": [
              "<div>\n",
              "<style scoped>\n",
              "    .dataframe tbody tr th:only-of-type {\n",
              "        vertical-align: middle;\n",
              "    }\n",
              "\n",
              "    .dataframe tbody tr th {\n",
              "        vertical-align: top;\n",
              "    }\n",
              "\n",
              "    .dataframe thead th {\n",
              "        text-align: right;\n",
              "    }\n",
              "</style>\n",
              "<table border=\"1\" class=\"dataframe\">\n",
              "  <thead>\n",
              "    <tr style=\"text-align: right;\">\n",
              "      <th></th>\n",
              "      <th>Date</th>\n",
              "      <th>0</th>\n",
              "    </tr>\n",
              "  </thead>\n",
              "  <tbody>\n",
              "    <tr>\n",
              "      <th>0</th>\n",
              "      <td>2012-01-26</td>\n",
              "      <td>0</td>\n",
              "    </tr>\n",
              "    <tr>\n",
              "      <th>1</th>\n",
              "      <td>2012-02-09</td>\n",
              "      <td>0</td>\n",
              "    </tr>\n",
              "    <tr>\n",
              "      <th>2</th>\n",
              "      <td>2012-02-24</td>\n",
              "      <td>0</td>\n",
              "    </tr>\n",
              "    <tr>\n",
              "      <th>3</th>\n",
              "      <td>2012-03-09</td>\n",
              "      <td>0</td>\n",
              "    </tr>\n",
              "    <tr>\n",
              "      <th>4</th>\n",
              "      <td>2012-03-23</td>\n",
              "      <td>0</td>\n",
              "    </tr>\n",
              "    <tr>\n",
              "      <th>...</th>\n",
              "      <td>...</td>\n",
              "      <td>...</td>\n",
              "    </tr>\n",
              "    <tr>\n",
              "      <th>195</th>\n",
              "      <td>2019-10-25</td>\n",
              "      <td>0</td>\n",
              "    </tr>\n",
              "    <tr>\n",
              "      <th>196</th>\n",
              "      <td>2019-11-08</td>\n",
              "      <td>0</td>\n",
              "    </tr>\n",
              "    <tr>\n",
              "      <th>197</th>\n",
              "      <td>2019-11-22</td>\n",
              "      <td>0</td>\n",
              "    </tr>\n",
              "    <tr>\n",
              "      <th>198</th>\n",
              "      <td>2019-12-09</td>\n",
              "      <td>0</td>\n",
              "    </tr>\n",
              "    <tr>\n",
              "      <th>199</th>\n",
              "      <td>2019-12-23</td>\n",
              "      <td>0</td>\n",
              "    </tr>\n",
              "  </tbody>\n",
              "</table>\n",
              "<p>200 rows × 2 columns</p>\n",
              "</div>"
            ],
            "text/plain": [
              "          Date  0\n",
              "0   2012-01-26  0\n",
              "1   2012-02-09  0\n",
              "2   2012-02-24  0\n",
              "3   2012-03-09  0\n",
              "4   2012-03-23  0\n",
              "..         ... ..\n",
              "195 2019-10-25  0\n",
              "196 2019-11-08  0\n",
              "197 2019-11-22  0\n",
              "198 2019-12-09  0\n",
              "199 2019-12-23  0\n",
              "\n",
              "[200 rows x 2 columns]"
            ]
          },
          "metadata": {
            "tags": []
          },
          "execution_count": 31
        }
      ]
    },
    {
      "cell_type": "code",
      "metadata": {
        "id": "zWU1KjxEmRgU"
      },
      "source": [
        "final_df.to_csv(DATA_PATH + \"sv_prediction7.csv\",header=False,index=False)"
      ],
      "execution_count": 33,
      "outputs": []
    },
    {
      "cell_type": "code",
      "metadata": {
        "id": "uwSKd0Lx_kH0"
      },
      "source": [
        ""
      ],
      "execution_count": null,
      "outputs": []
    }
  ]
}